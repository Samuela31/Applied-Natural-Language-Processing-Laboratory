{
 "cells": [
  {
   "cell_type": "code",
   "execution_count": null,
   "metadata": {
    "colab": {
     "base_uri": "https://localhost:8080/"
    },
    "id": "Eb7FpQSLFKlZ",
    "outputId": "5dc5ad09-b42d-489e-a12b-7b8de5d64778"
   },
   "outputs": [
    {
     "name": "stdout",
     "output_type": "stream",
     "text": [
      "Requirement already satisfied: transformers in /usr/local/lib/python3.10/dist-packages (4.44.2)\n",
      "Requirement already satisfied: sentencepiece in /usr/local/lib/python3.10/dist-packages (0.2.0)\n",
      "Requirement already satisfied: filelock in /usr/local/lib/python3.10/dist-packages (from transformers) (3.16.1)\n",
      "Requirement already satisfied: huggingface-hub<1.0,>=0.23.2 in /usr/local/lib/python3.10/dist-packages (from transformers) (0.24.7)\n",
      "Requirement already satisfied: numpy>=1.17 in /usr/local/lib/python3.10/dist-packages (from transformers) (1.26.4)\n",
      "Requirement already satisfied: packaging>=20.0 in /usr/local/lib/python3.10/dist-packages (from transformers) (24.1)\n",
      "Requirement already satisfied: pyyaml>=5.1 in /usr/local/lib/python3.10/dist-packages (from transformers) (6.0.2)\n",
      "Requirement already satisfied: regex!=2019.12.17 in /usr/local/lib/python3.10/dist-packages (from transformers) (2024.9.11)\n",
      "Requirement already satisfied: requests in /usr/local/lib/python3.10/dist-packages (from transformers) (2.32.3)\n",
      "Requirement already satisfied: safetensors>=0.4.1 in /usr/local/lib/python3.10/dist-packages (from transformers) (0.4.5)\n",
      "Requirement already satisfied: tokenizers<0.20,>=0.19 in /usr/local/lib/python3.10/dist-packages (from transformers) (0.19.1)\n",
      "Requirement already satisfied: tqdm>=4.27 in /usr/local/lib/python3.10/dist-packages (from transformers) (4.66.5)\n",
      "Requirement already satisfied: fsspec>=2023.5.0 in /usr/local/lib/python3.10/dist-packages (from huggingface-hub<1.0,>=0.23.2->transformers) (2024.6.1)\n",
      "Requirement already satisfied: typing-extensions>=3.7.4.3 in /usr/local/lib/python3.10/dist-packages (from huggingface-hub<1.0,>=0.23.2->transformers) (4.12.2)\n",
      "Requirement already satisfied: charset-normalizer<4,>=2 in /usr/local/lib/python3.10/dist-packages (from requests->transformers) (3.3.2)\n",
      "Requirement already satisfied: idna<4,>=2.5 in /usr/local/lib/python3.10/dist-packages (from requests->transformers) (3.10)\n",
      "Requirement already satisfied: urllib3<3,>=1.21.1 in /usr/local/lib/python3.10/dist-packages (from requests->transformers) (2.2.3)\n",
      "Requirement already satisfied: certifi>=2017.4.17 in /usr/local/lib/python3.10/dist-packages (from requests->transformers) (2024.8.30)\n"
     ]
    }
   ],
   "source": [
    "!pip install transformers sentencepiece\n"
   ]
  },
  {
   "cell_type": "code",
   "execution_count": null,
   "metadata": {
    "colab": {
     "base_uri": "https://localhost:8080/",
     "height": 313,
     "referenced_widgets": [
      "c1a23c25bf124b26a683c9f1fbb3fd76",
      "4728e018884d407eb0a03f9d07414e7e",
      "71d82b72fcec42d99a80af53a040d664",
      "5a96fa3ce0604abdac0b2bb3ff364ef4",
      "84bc87ace37e431eba53317a8b9664b9",
      "4b2c0884686b44d9a281da2f6486e40e",
      "0bb4c4edc2814c569b42cfa9c654c97a",
      "326271931dfe4614b77609ae71384e44",
      "df0c401ce1dd4f37860813cdde92bdf4",
      "8a18718bf83e41b2b82b552e7aa1a061",
      "344ea34055a64170a13fd1df2313175b",
      "29ea7b825ce34dd29f33617ca9ec6fb4",
      "6f01ace37ff541f8a5078983af861e97",
      "837dd2db9d054bc6972ca609d153135c",
      "2bc54100f14d4ff99b843f076ce92a6e",
      "89f4856e568547dcbb1331fc1961738e",
      "a7ca8cde44954be6ab234bf7c31cd743",
      "ae43dc88c8634e879a7c7d724621c71f",
      "3c317d70af0d40b7a998f2f3460a1db9",
      "c3103d97e0d94e61bd1f9aa310548703",
      "f444ac9319514cd299aa21dab881f651",
      "1ae21094cc4d4971bb211a541aa8305b",
      "caac4ce7ff224c14a34130b3424f5f72",
      "81db49ae83e84a5db43e25f639f11a3b",
      "15c2c49d3fc5478fba62c20f2c4fe978",
      "a121da69be954341bf0e7ed37185d674",
      "9b6d6b55051d4498852d022128b78468",
      "c2466657f3674634b6a84059bda7eca6",
      "9714c2a0329e43208d9ecbf27aa1df22",
      "38de5ffb9f644e18b0b7c391b83cc8fa",
      "51946c748f0848118af5b6213123750d",
      "65d3254ebd0345ee86360ab90d2f230d",
      "efded8bc8de24106a46840e2ba284fbd",
      "e1c59f4c15f1407ba8cebc71bd5bb732",
      "57be8091e0d744cb95cfde8bc667d088",
      "3be979f777494d18b5fb6acdcd2989a3",
      "f7b07b7fefba4b1b83b0ab14df68b750",
      "65c6046b61884acab001013e6f90feb5",
      "1201402b85c946a7923189a76e541379",
      "b95117befe3f4361b12726bd455f50c1",
      "f12d3b33628340569232690aaa35c249",
      "1db7d66a8e114ad1b1f7eaaf940d438e",
      "01aced2706594cdd845ed2e06074ec08",
      "e3861419da14404a8d2ae91499052544",
      "c3a202e22a12466f837b298db243fc84",
      "37b0103e2876433f8308bf0001d0f019",
      "9465dc6b7ffc46329715bf4e85cec277",
      "d608b0624aab4f189feb0cac9c36275f",
      "5ec65e592b9249e98c53573f660eb4bb",
      "31e693b5361545a893dec6afdb40e861",
      "00e7dea43f554142b924c7ca8ab5dcf2",
      "d4828157d1dc447ea93c7d32f762966b",
      "01695d52bcaf497c8dc24b6c73863937",
      "20a571f6ca194a72bec35af78f31262a",
      "bb7d0d29054e4313af23c045e020179f",
      "cf260bc767b94364bdbe40028d0fa07b",
      "745c3a50e5864f5c88c006b85b21f45e",
      "e56a61df08ae40738f12f45898d82647",
      "92aa703d26bf43cabb80e8b26bb35e64",
      "eef1e2f276774924ab0f132ff98901c4",
      "3e79bca759d7464b90681711b1a8b326",
      "2516510b89644c9db85d272cf4729232",
      "c5404a266cce4af1bec6a9b831f89fc0",
      "600fdd970fc44409beed711987f5b128",
      "89dbcb527bf249b1a5e0603f9db75c76",
      "c4257ff07e05491680358a2e46eef6d3",
      "eea9969c630b4677be077652118de083",
      "38691e00f08c4e2ca620feabf274aa1a",
      "799d02336e0d4066a30ac9ae1f44664c",
      "c0e493e1288148f8b061d4b0b1e36e42",
      "0f063db2beb747a0aa80c17f9b031380",
      "be9c5b3524d444dabf7abe75e17f8b7f",
      "9594191a1b974bd5b37982693ac1aa1f",
      "d0999ac6a81742fb9cf8630144e1ac32",
      "747ae20f1a174ac7acd549df8cba5469",
      "66fa023586eb46538d77efff7eba4203",
      "39f17164632341aa96137a18ad4918fb"
     ]
    },
    "id": "4QlmGylkGE4F",
    "outputId": "e771b720-51c2-4509-dffe-e73322246f31"
   },
   "outputs": [
    {
     "data": {
      "application/vnd.jupyter.widget-view+json": {
       "model_id": "c1a23c25bf124b26a683c9f1fbb3fd76",
       "version_major": 2,
       "version_minor": 0
      },
      "text/plain": [
       "tokenizer_config.json:   0%|          | 0.00/298 [00:00<?, ?B/s]"
      ]
     },
     "metadata": {},
     "output_type": "display_data"
    },
    {
     "data": {
      "application/vnd.jupyter.widget-view+json": {
       "model_id": "29ea7b825ce34dd29f33617ca9ec6fb4",
       "version_major": 2,
       "version_minor": 0
      },
      "text/plain": [
       "vocab.json:   0%|          | 0.00/3.71M [00:00<?, ?B/s]"
      ]
     },
     "metadata": {},
     "output_type": "display_data"
    },
    {
     "data": {
      "application/vnd.jupyter.widget-view+json": {
       "model_id": "caac4ce7ff224c14a34130b3424f5f72",
       "version_major": 2,
       "version_minor": 0
      },
      "text/plain": [
       "sentencepiece.bpe.model:   0%|          | 0.00/2.42M [00:00<?, ?B/s]"
      ]
     },
     "metadata": {},
     "output_type": "display_data"
    },
    {
     "data": {
      "application/vnd.jupyter.widget-view+json": {
       "model_id": "e1c59f4c15f1407ba8cebc71bd5bb732",
       "version_major": 2,
       "version_minor": 0
      },
      "text/plain": [
       "special_tokens_map.json:   0%|          | 0.00/1.14k [00:00<?, ?B/s]"
      ]
     },
     "metadata": {},
     "output_type": "display_data"
    },
    {
     "data": {
      "application/vnd.jupyter.widget-view+json": {
       "model_id": "c3a202e22a12466f837b298db243fc84",
       "version_major": 2,
       "version_minor": 0
      },
      "text/plain": [
       "config.json:   0%|          | 0.00/908 [00:00<?, ?B/s]"
      ]
     },
     "metadata": {},
     "output_type": "display_data"
    },
    {
     "name": "stderr",
     "output_type": "stream",
     "text": [
      "/usr/local/lib/python3.10/dist-packages/transformers/tokenization_utils_base.py:1601: FutureWarning: `clean_up_tokenization_spaces` was not set. It will be set to `True` by default. This behavior will be depracted in transformers v4.45, and will be then set to `False` by default. For more details check this issue: https://github.com/huggingface/transformers/issues/31884\n",
      "  warnings.warn(\n"
     ]
    },
    {
     "data": {
      "application/vnd.jupyter.widget-view+json": {
       "model_id": "cf260bc767b94364bdbe40028d0fa07b",
       "version_major": 2,
       "version_minor": 0
      },
      "text/plain": [
       "pytorch_model.bin:   0%|          | 0.00/1.94G [00:00<?, ?B/s]"
      ]
     },
     "metadata": {},
     "output_type": "display_data"
    },
    {
     "data": {
      "application/vnd.jupyter.widget-view+json": {
       "model_id": "eea9969c630b4677be077652118de083",
       "version_major": 2,
       "version_minor": 0
      },
      "text/plain": [
       "generation_config.json:   0%|          | 0.00/233 [00:00<?, ?B/s]"
      ]
     },
     "metadata": {},
     "output_type": "display_data"
    },
    {
     "name": "stdout",
     "output_type": "stream",
     "text": [
      "Translated Text: ஹலோ நீ எப்படி இருக்கிறாய்?\n"
     ]
    }
   ],
   "source": [
    "from transformers import M2M100ForConditionalGeneration, M2M100Tokenizer\n",
    "\n",
    "# Load the M2M100 model for English to Tamil translation\n",
    "model_name = \"facebook/m2m100_418M\"\n",
    "tokenizer = M2M100Tokenizer.from_pretrained(model_name)\n",
    "model = M2M100ForConditionalGeneration.from_pretrained(model_name)\n",
    "\n",
    "# Set target language to Tamil\n",
    "tokenizer.src_lang = \"en\"\n",
    "target_lang = \"ta\"\n",
    "\n",
    "# Function to perform translation\n",
    "def translate_english_to_tamil(text):\n",
    "    # Tokenize the input text\n",
    "    inputs = tokenizer(text, return_tensors=\"pt\", padding=True)\n",
    "\n",
    "    # Generate translation using the model\n",
    "    translated = model.generate(**inputs, forced_bos_token_id=tokenizer.get_lang_id(target_lang))\n",
    "\n",
    "    # Decode the translated tokens to Tamil\n",
    "    translated_text = tokenizer.decode(translated[0], skip_special_tokens=True)\n",
    "\n",
    "    return translated_text\n",
    "\n",
    "# Test the translation function\n",
    "english_text = \"Hello, how are you?\"\n",
    "translated_text = translate_english_to_tamil(english_text)\n",
    "print(f\"Translated Text: {translated_text}\")\n"
   ]
  },
  {
   "cell_type": "code",
   "execution_count": null,
   "metadata": {
    "colab": {
     "base_uri": "https://localhost:8080/"
    },
    "id": "aNhBu6VIGTr1",
    "outputId": "b3656d48-8040-4d79-bdd5-7f7be0f5131a"
   },
   "outputs": [
    {
     "name": "stdout",
     "output_type": "stream",
     "text": [
      "Translated Text: இது ஒரு பள்ளி\n"
     ]
    }
   ],
   "source": [
    "english_text = \"This is a school\"\n",
    "translated_text = translate_english_to_tamil(english_text)\n",
    "print(f\"Translated Text: {translated_text}\")\n"
   ]
  }
 ],
 "metadata": {
  "colab": {
   "provenance": []
  },
  "kernelspec": {
   "display_name": "Python 3",
   "name": "python3"
  },
  "language_info": {
   "name": "python"
  }
 },
 "nbformat": 4,
 "nbformat_minor": 0
}
