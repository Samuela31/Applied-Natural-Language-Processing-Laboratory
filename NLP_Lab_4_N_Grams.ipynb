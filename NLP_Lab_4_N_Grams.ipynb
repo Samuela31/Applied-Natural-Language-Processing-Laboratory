{
  "nbformat": 4,
  "nbformat_minor": 0,
  "metadata": {
    "colab": {
      "provenance": []
    },
    "kernelspec": {
      "name": "python3",
      "display_name": "Python 3"
    },
    "language_info": {
      "name": "python"
    }
  },
  "cells": [
    {
      "cell_type": "code",
      "source": [
        "!pip install nltk"
      ],
      "metadata": {
        "colab": {
          "base_uri": "https://localhost:8080/"
        },
        "id": "JHW58vlgxLUI",
        "outputId": "b3feef92-442c-4da6-c1b8-c0b611e5168c"
      },
      "execution_count": null,
      "outputs": [
        {
          "output_type": "stream",
          "name": "stdout",
          "text": [
            "Requirement already satisfied: nltk in /usr/local/lib/python3.10/dist-packages (3.8.1)\n",
            "Requirement already satisfied: click in /usr/local/lib/python3.10/dist-packages (from nltk) (8.1.7)\n",
            "Requirement already satisfied: joblib in /usr/local/lib/python3.10/dist-packages (from nltk) (1.4.2)\n",
            "Requirement already satisfied: regex>=2021.8.3 in /usr/local/lib/python3.10/dist-packages (from nltk) (2024.5.15)\n",
            "Requirement already satisfied: tqdm in /usr/local/lib/python3.10/dist-packages (from nltk) (4.66.5)\n"
          ]
        }
      ]
    },
    {
      "cell_type": "code",
      "source": [
        "import nltk\n",
        "nltk.download('punkt')"
      ],
      "metadata": {
        "colab": {
          "base_uri": "https://localhost:8080/"
        },
        "id": "XKuf5KSNxe-D",
        "outputId": "49c4fa7c-a3d2-42ec-8528-b5ff5ac975a5"
      },
      "execution_count": null,
      "outputs": [
        {
          "output_type": "stream",
          "name": "stderr",
          "text": [
            "[nltk_data] Downloading package punkt to /root/nltk_data...\n",
            "[nltk_data]   Unzipping tokenizers/punkt.zip.\n"
          ]
        },
        {
          "output_type": "execute_result",
          "data": {
            "text/plain": [
              "True"
            ]
          },
          "metadata": {},
          "execution_count": 5
        }
      ]
    },
    {
      "cell_type": "code",
      "execution_count": null,
      "metadata": {
        "colab": {
          "base_uri": "https://localhost:8080/"
        },
        "id": "nWz7PIJuw5lY",
        "outputId": "f69028bf-7f1f-4556-c615-91520bb5a8ff"
      },
      "outputs": [
        {
          "output_type": "stream",
          "name": "stdout",
          "text": [
            "[('I', 'like', 'my'), ('like', 'my', 'Cake'), ('my', 'Cake', 'Pink')]\n"
          ]
        }
      ],
      "source": [
        "def generate_ngrams(text, n):\n",
        "  tokens = nltk.word_tokenize(text)\n",
        "  ngrams = list(nltk.ngrams(tokens, n))\n",
        "  return ngrams\n",
        "\n",
        "\n",
        "i = \"I like my Cake Pink\"\n",
        "n = 3\n",
        "\n",
        "ngrams = generate_ngrams(i, n)\n",
        "print(ngrams)"
      ]
    }
  ]
}