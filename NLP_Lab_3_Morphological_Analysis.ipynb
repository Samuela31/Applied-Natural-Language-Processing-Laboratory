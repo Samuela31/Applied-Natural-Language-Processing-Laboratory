{
  "nbformat": 4,
  "nbformat_minor": 0,
  "metadata": {
    "colab": {
      "provenance": []
    },
    "kernelspec": {
      "name": "python3",
      "display_name": "Python 3"
    },
    "language_info": {
      "name": "python"
    }
  },
  "cells": [
    {
      "cell_type": "code",
      "execution_count": null,
      "metadata": {
        "colab": {
          "base_uri": "https://localhost:8080/"
        },
        "id": "9JsrUuFF3P3q",
        "outputId": "d720713c-58d3-4e0e-be04-6de4d00975ea"
      },
      "outputs": [
        {
          "output_type": "stream",
          "name": "stdout",
          "text": [
            "Derived word: happiness, Base form: happy\n",
            "Derived word: modernize, Base form: modern\n",
            "Derived word: teacher, Base form: teach\n",
            "Derived word: activation, Base form: activate\n",
            "Derived word: beautiful, Base form: beauty\n",
            "Derived word: childish, Base form: child\n"
          ]
        }
      ],
      "source": [
        "def find_base_form(word):\n",
        "    # Dictionary of common derivational suffixes and their corresponding base forms\n",
        "    suffixes = {\n",
        "        'iness': 'y',\n",
        "        'iful': 'y',\n",
        "        'ness': '',\n",
        "        'less': '',\n",
        "        'ly': '',\n",
        "        'ment': '',\n",
        "        'er': '',\n",
        "        'ist': '',\n",
        "        'ing': '',\n",
        "        'able': '',\n",
        "        'ive': '',\n",
        "        'ous': '',\n",
        "        'ize': '',\n",
        "        'ful': '',\n",
        "        'ish': '',\n",
        "        'tion': 'te',\n",
        "        'sion': 'se',\n",
        "        'ance': '',\n",
        "        'ence': '',\n",
        "        'al': '',\n",
        "        'ial': '',\n",
        "        'ation': 'ate',\n",
        "        'ism': '',\n",
        "        'ity': '',\n",
        "        'hood': '',\n",
        "    }\n",
        "\n",
        "    for suffix in suffixes:\n",
        "        if word.endswith(suffix):\n",
        "            return word[:-len(suffix)] + suffixes[suffix]\n",
        "\n",
        "    # If no suffix is found, return the original word\n",
        "    return word\n",
        "\n",
        "# Test cases\n",
        "words = ['happiness', 'modernize', 'teacher', 'activation', 'beautiful', 'childish']\n",
        "\n",
        "for word in words:\n",
        "    base_form = find_base_form(word)\n",
        "    print(f\"Derived word: {word}, Base form: {base_form}\")\n"
      ]
    },
    {
      "cell_type": "code",
      "source": [
        "import re\n",
        "\n",
        "def find_base_form_inflection(word):\n",
        "    # Dictionary of common inflections and their transformations\n",
        "    inflections = {\n",
        "        'ies': 'y',   # Plural (flies -> fly)\n",
        "        'es': '',     # Plural (boxes -> box)\n",
        "        's': '',      # Plural (cats -> cat)\n",
        "        'ed': '',     # Past tense (walked -> walk)\n",
        "        'ing': '',    # Present participle (running -> run)\n",
        "        'er': '',     # Comparative (bigger -> big)\n",
        "        'est': '',    # Superlative (biggest -> big)\n",
        "    }\n",
        "\n",
        "    # Handle irregular plural nouns\n",
        "    irregular_plurals = {\n",
        "        'men': 'man',\n",
        "        'women': 'woman',\n",
        "        'children': 'child',\n",
        "        'feet': 'foot',\n",
        "        'teeth': 'tooth',\n",
        "        'mice': 'mouse',\n",
        "        'geese': 'goose',\n",
        "    }\n",
        "\n",
        "    # Check if the word is an irregular plural\n",
        "    if word in irregular_plurals:\n",
        "        return irregular_plurals[word]\n",
        "\n",
        "    # Handle regular inflections\n",
        "    for inflection in inflections:\n",
        "        if word.endswith(inflection):\n",
        "            return word[:-len(inflection)] + inflections[inflection]\n",
        "\n",
        "    # If no inflection is found, return the original word\n",
        "    return word\n",
        "\n",
        "# Test cases\n",
        "words = ['cats', 'boxes', 'flies', 'walked', 'eating', 'smallest', 'faster', 'children', 'geese']\n",
        "\n",
        "for word in words:\n",
        "    base_form = find_base_form_inflection(word)\n",
        "    print(f\"Inflected word: {word}, Base form: {base_form}\")\n"
      ],
      "metadata": {
        "colab": {
          "base_uri": "https://localhost:8080/"
        },
        "id": "Pn6_NAG07wks",
        "outputId": "2d5450b4-7334-4363-a3c7-b7cd4e46d123"
      },
      "execution_count": null,
      "outputs": [
        {
          "output_type": "stream",
          "name": "stdout",
          "text": [
            "Inflected word: cats, Base form: cat\n",
            "Inflected word: boxes, Base form: box\n",
            "Inflected word: flies, Base form: fly\n",
            "Inflected word: walked, Base form: walk\n",
            "Inflected word: eating, Base form: eat\n",
            "Inflected word: smallest, Base form: small\n",
            "Inflected word: faster, Base form: fast\n",
            "Inflected word: children, Base form: child\n",
            "Inflected word: geese, Base form: goose\n"
          ]
        }
      ]
    }
  ]
}