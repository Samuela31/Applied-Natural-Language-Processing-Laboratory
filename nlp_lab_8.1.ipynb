{
  "nbformat": 4,
  "nbformat_minor": 0,
  "metadata": {
    "colab": {
      "provenance": []
    },
    "kernelspec": {
      "name": "python3",
      "display_name": "Python 3"
    },
    "language_info": {
      "name": "python"
    }
  },
  "cells": [
    {
      "cell_type": "code",
      "source": [
        "!pip install pdfplumber"
      ],
      "metadata": {
        "colab": {
          "base_uri": "https://localhost:8080/"
        },
        "id": "nDpFjrF7pdpz",
        "outputId": "462e47aa-9a65-4293-b794-6cd8bf55288b"
      },
      "execution_count": null,
      "outputs": [
        {
          "output_type": "stream",
          "name": "stdout",
          "text": [
            "Collecting pdfplumber\n",
            "  Downloading pdfplumber-0.11.4-py3-none-any.whl.metadata (41 kB)\n",
            "\u001b[?25l     \u001b[90m━━━━━━━━━━━━━━━━━━━━━━━━━━━━━━━━━━━━━━━━\u001b[0m \u001b[32m0.0/42.0 kB\u001b[0m \u001b[31m?\u001b[0m eta \u001b[36m-:--:--\u001b[0m\r\u001b[2K     \u001b[90m━━━━━━━━━━━━━━━━━━━━━━━━━━━━━━━━━━━━━━━━\u001b[0m \u001b[32m42.0/42.0 kB\u001b[0m \u001b[31m1.5 MB/s\u001b[0m eta \u001b[36m0:00:00\u001b[0m\n",
            "\u001b[?25hCollecting pdfminer.six==20231228 (from pdfplumber)\n",
            "  Downloading pdfminer.six-20231228-py3-none-any.whl.metadata (4.2 kB)\n",
            "Requirement already satisfied: Pillow>=9.1 in /usr/local/lib/python3.10/dist-packages (from pdfplumber) (10.4.0)\n",
            "Collecting pypdfium2>=4.18.0 (from pdfplumber)\n",
            "  Downloading pypdfium2-4.30.0-py3-none-manylinux_2_17_x86_64.manylinux2014_x86_64.whl.metadata (48 kB)\n",
            "\u001b[2K     \u001b[90m━━━━━━━━━━━━━━━━━━━━━━━━━━━━━━━━━━━━━━━━\u001b[0m \u001b[32m48.5/48.5 kB\u001b[0m \u001b[31m1.6 MB/s\u001b[0m eta \u001b[36m0:00:00\u001b[0m\n",
            "\u001b[?25hRequirement already satisfied: charset-normalizer>=2.0.0 in /usr/local/lib/python3.10/dist-packages (from pdfminer.six==20231228->pdfplumber) (3.3.2)\n",
            "Requirement already satisfied: cryptography>=36.0.0 in /usr/local/lib/python3.10/dist-packages (from pdfminer.six==20231228->pdfplumber) (43.0.1)\n",
            "Requirement already satisfied: cffi>=1.12 in /usr/local/lib/python3.10/dist-packages (from cryptography>=36.0.0->pdfminer.six==20231228->pdfplumber) (1.17.1)\n",
            "Requirement already satisfied: pycparser in /usr/local/lib/python3.10/dist-packages (from cffi>=1.12->cryptography>=36.0.0->pdfminer.six==20231228->pdfplumber) (2.22)\n",
            "Downloading pdfplumber-0.11.4-py3-none-any.whl (59 kB)\n",
            "\u001b[2K   \u001b[90m━━━━━━━━━━━━━━━━━━━━━━━━━━━━━━━━━━━━━━━━\u001b[0m \u001b[32m59.2/59.2 kB\u001b[0m \u001b[31m3.5 MB/s\u001b[0m eta \u001b[36m0:00:00\u001b[0m\n",
            "\u001b[?25hDownloading pdfminer.six-20231228-py3-none-any.whl (5.6 MB)\n",
            "\u001b[2K   \u001b[90m━━━━━━━━━━━━━━━━━━━━━━━━━━━━━━━━━━━━━━━━\u001b[0m \u001b[32m5.6/5.6 MB\u001b[0m \u001b[31m54.6 MB/s\u001b[0m eta \u001b[36m0:00:00\u001b[0m\n",
            "\u001b[?25hDownloading pypdfium2-4.30.0-py3-none-manylinux_2_17_x86_64.manylinux2014_x86_64.whl (2.8 MB)\n",
            "\u001b[2K   \u001b[90m━━━━━━━━━━━━━━━━━━━━━━━━━━━━━━━━━━━━━━━━\u001b[0m \u001b[32m2.8/2.8 MB\u001b[0m \u001b[31m50.3 MB/s\u001b[0m eta \u001b[36m0:00:00\u001b[0m\n",
            "\u001b[?25hInstalling collected packages: pypdfium2, pdfminer.six, pdfplumber\n",
            "Successfully installed pdfminer.six-20231228 pdfplumber-0.11.4 pypdfium2-4.30.0\n"
          ]
        }
      ]
    },
    {
      "cell_type": "code",
      "execution_count": null,
      "metadata": {
        "colab": {
          "base_uri": "https://localhost:8080/"
        },
        "id": "cc1Qxu5DmAOG",
        "outputId": "f12f920e-63a6-485c-f92d-2a493dbd04d4"
      },
      "outputs": [
        {
          "output_type": "stream",
          "name": "stdout",
          "text": [
            "In the bustling city of Lumina, there was an inventor named Zara who had a knack\n",
            "for turning ordinary objects into extraordinary gadgets. Her latest creation was\n",
            "a seemingly ordinary pair of sneakers, but with a twist—these shoes could make\n",
            "the wearer run at lightning speed!\n",
            "Zara decided to test them out on the city's annual Fun Run day, where\n",
            "participants dressed up in costumes and raced across town. Zara slipped into her\n",
            "sneakers, disguised herself as a superhero called \"The Flash Rocket,\" and took\n",
            "her spot at the starting line, surrounded by people in crazy outfits—there was a\n",
            "pirate, a giant chicken, and even someone dressed as a slice of pizza.\n",
            "When the race began, Zara tapped a button on the side of the sneakers, and they\n",
            "took off like a rocket! She zoomed past the crowd, weaving between the runners\n",
            "and occasionally doing flips just for fun. She was so fast that everything\n",
            "around her turned into a colorful blur.\n",
            "But as she rounded a corner near the city park, Zara noticed something unusual—a\n",
            "giant inflatable unicorn had come loose from the nearby children's festival and\n",
            "was drifting toward the runners. It looked like it would cause a major pile-up!\n",
            "Without a second thought, Zara made a sharp turn and sprinted towards the\n",
            "unicorn.\n",
            "She used her lightning-speed shoes to grab onto the unicorn’s reins and steer it\n",
            "back to safety, tying it securely to a nearby tree. The crowd cheered, thinking\n",
            "it was all part of the show, and Zara, still in her superhero disguise, gave a\n",
            "playful salute before speeding off to finish the race.\n",
            "She crossed the finish line first, of course, but just as the announcer was\n",
            "about to congratulate \"The Flash Rocket\" on her victory, Zara tapped the button\n",
            "again, slowing the sneakers down to a normal pace. She blended into the crowd,\n",
            "disappeared behind a nearby lemonade stand, and removed her superhero mask with\n",
            "a grin.\n",
            "The city's Fun Run was declared a great success, with everyone talking about the\n",
            "mysterious \"Flash Rocket\" who saved the day. Zara never told anyone her secret,\n",
            "but every now and then, she'd see kids in the park running around in capes,\n",
            "pretending to be the speedy superhero, and that was enough for her\n"
          ]
        }
      ],
      "source": [
        "import pdfplumber\n",
        "with pdfplumber.open('story.pdf') as pdf:\n",
        "  for page in pdf.pages:\n",
        "    text = page.extract_text()\n",
        "    print(text)"
      ]
    },
    {
      "cell_type": "code",
      "source": [
        "import spacy\n",
        "nlp = spacy.load('en_core_web_sm')\n",
        "doc = nlp(text)\n",
        "cleaned_text = ' '.join([token.text for token in doc if not token.is_stop and not token.is_punct])\n",
        "print(cleaned_text)"
      ],
      "metadata": {
        "colab": {
          "base_uri": "https://localhost:8080/"
        },
        "id": "GR03YGUWmJ8y",
        "outputId": "d52a9dec-fc76-4058-8c45-b4dac9996613"
      },
      "execution_count": null,
      "outputs": [
        {
          "output_type": "stream",
          "name": "stdout",
          "text": [
            "bustling city Lumina inventor named Zara knack \n",
            " turning ordinary objects extraordinary gadgets latest creation \n",
            " seemingly ordinary pair sneakers twist shoes \n",
            " wearer run lightning speed \n",
            " Zara decided test city annual Fun Run day \n",
            " participants dressed costumes raced town Zara slipped \n",
            " sneakers disguised superhero called Flash Rocket took \n",
            " spot starting line surrounded people crazy outfits \n",
            " pirate giant chicken dressed slice pizza \n",
            " race began Zara tapped button sneakers \n",
            " took like rocket zoomed past crowd weaving runners \n",
            " occasionally flips fun fast \n",
            " turned colorful blur \n",
            " rounded corner near city park Zara noticed unusual \n",
            " giant inflatable unicorn come loose nearby children festival \n",
            " drifting runners looked like cause major pile \n",
            " second thought Zara sharp turn sprinted \n",
            " unicorn \n",
            " lightning speed shoes grab unicorn reins steer \n",
            " safety tying securely nearby tree crowd cheered thinking \n",
            " Zara superhero disguise gave \n",
            " playful salute speeding finish race \n",
            " crossed finish line course announcer \n",
            " congratulate Flash Rocket victory Zara tapped button \n",
            " slowing sneakers normal pace blended crowd \n",
            " disappeared nearby lemonade stand removed superhero mask \n",
            " grin \n",
            " city Fun Run declared great success talking \n",
            " mysterious Flash Rocket saved day Zara told secret \n",
            " kids park running capes \n",
            " pretending speedy superhero\n"
          ]
        }
      ]
    },
    {
      "cell_type": "code",
      "source": [
        "doc = nlp(cleaned_text)\n",
        "for ent in doc.ents:\n",
        "  print(ent.text, ent.label_)"
      ],
      "metadata": {
        "colab": {
          "base_uri": "https://localhost:8080/"
        },
        "id": "b0JnAG4KmN9i",
        "outputId": "fed8069e-71d0-49e9-c03e-14803777a2e3"
      },
      "execution_count": null,
      "outputs": [
        {
          "output_type": "stream",
          "name": "stdout",
          "text": [
            "Zara PERSON\n",
            "Zara PERSON\n",
            "annual DATE\n",
            "Zara PERSON\n",
            "Flash Rocket PERSON\n",
            "Zara PERSON\n",
            "Zara PERSON\n",
            "second ORDINAL\n",
            "Zara PERSON\n",
            "Flash Rocket PERSON\n",
            "Zara PERSON\n",
            "Flash Rocket PERSON\n",
            "Zara PERSON\n"
          ]
        }
      ]
    },
    {
      "cell_type": "code",
      "source": [
        "from transformers import BertTokenizer, BertForTokenClassification\n",
        "from transformers import pipeline\n",
        "tokenizer = BertTokenizer.from_pretrained('dslim/bert-base-NER')\n",
        "model = BertForTokenClassification.from_pretrained('dslim/bert-base-NER')\n",
        "nlp_ner = pipeline('ner', model=model, tokenizer=tokenizer)\n",
        "ner_results = nlp_ner(cleaned_text)\n",
        "import json\n",
        "output = {\"Entities\": ner_results}\n",
        "print(output)"
      ],
      "metadata": {
        "colab": {
          "base_uri": "https://localhost:8080/"
        },
        "id": "B-Ekxp4mmYxW",
        "outputId": "c11671b5-5869-4afb-b74f-63445550d8cd"
      },
      "execution_count": null,
      "outputs": [
        {
          "output_type": "stream",
          "name": "stderr",
          "text": [
            "Some weights of the model checkpoint at dslim/bert-base-NER were not used when initializing BertForTokenClassification: ['bert.pooler.dense.bias', 'bert.pooler.dense.weight']\n",
            "- This IS expected if you are initializing BertForTokenClassification from the checkpoint of a model trained on another task or with another architecture (e.g. initializing a BertForSequenceClassification model from a BertForPreTraining model).\n",
            "- This IS NOT expected if you are initializing BertForTokenClassification from the checkpoint of a model that you expect to be exactly identical (initializing a BertForSequenceClassification model from a BertForSequenceClassification model).\n"
          ]
        },
        {
          "output_type": "stream",
          "name": "stdout",
          "text": [
            "{'Entities': [{'entity': 'B-MISC', 'score': 0.29433614, 'index': 4, 'word': 'Lu', 'start': None, 'end': None}, {'entity': 'B-PER', 'score': 0.95811146, 'index': 8, 'word': 'Z', 'start': None, 'end': None}, {'entity': 'B-PER', 'score': 0.4868917, 'index': 9, 'word': '##ara', 'start': None, 'end': None}, {'entity': 'B-ORG', 'score': 0.47830528, 'index': 33, 'word': 'Z', 'start': None, 'end': None}, {'entity': 'B-MISC', 'score': 0.9771707, 'index': 39, 'word': 'Fun', 'start': None, 'end': None}, {'entity': 'I-MISC', 'score': 0.99545395, 'index': 40, 'word': 'Run', 'start': None, 'end': None}, {'entity': 'B-PER', 'score': 0.6563035, 'index': 47, 'word': 'Z', 'start': None, 'end': None}, {'entity': 'B-PER', 'score': 0.96339625, 'index': 55, 'word': 'Flash', 'start': None, 'end': None}, {'entity': 'I-PER', 'score': 0.8121725, 'index': 56, 'word': 'Rocket', 'start': None, 'end': None}, {'entity': 'B-PER', 'score': 0.5293691, 'index': 73, 'word': 'Z', 'start': None, 'end': None}, {'entity': 'B-PER', 'score': 0.51217526, 'index': 101, 'word': 'Z', 'start': None, 'end': None}, {'entity': 'B-PER', 'score': 0.90446305, 'index': 126, 'word': 'Z', 'start': None, 'end': None}, {'entity': 'B-PER', 'score': 0.8378933, 'index': 152, 'word': 'Z', 'start': None, 'end': None}, {'entity': 'B-PER', 'score': 0.9683916, 'index': 171, 'word': 'Flash', 'start': None, 'end': None}, {'entity': 'I-PER', 'score': 0.78055114, 'index': 172, 'word': 'Rocket', 'start': None, 'end': None}, {'entity': 'B-PER', 'score': 0.75347334, 'index': 174, 'word': 'Z', 'start': None, 'end': None}, {'entity': 'B-PER', 'score': 0.5071202, 'index': 175, 'word': '##ara', 'start': None, 'end': None}, {'entity': 'B-ORG', 'score': 0.86885095, 'index': 195, 'word': 'Fun', 'start': None, 'end': None}, {'entity': 'I-ORG', 'score': 0.55970645, 'index': 196, 'word': 'Run', 'start': None, 'end': None}, {'entity': 'B-PER', 'score': 0.96118695, 'index': 202, 'word': 'Flash', 'start': None, 'end': None}, {'entity': 'I-PER', 'score': 0.68847865, 'index': 203, 'word': 'Rocket', 'start': None, 'end': None}, {'entity': 'B-PER', 'score': 0.8775899, 'index': 206, 'word': 'Z', 'start': None, 'end': None}, {'entity': 'B-PER', 'score': 0.45547852, 'index': 207, 'word': '##ara', 'start': None, 'end': None}]}\n"
          ]
        }
      ]
    },
    {
      "cell_type": "code",
      "source": [
        "import matplotlib.pyplot as plt\n",
        "import seaborn as sns\n",
        "from collections import Counter\n",
        "entities = [ent['entity'] for ent in ner_results]\n",
        "entity_counts = Counter(entities)\n",
        "plt.figure(figsize=(10,6))\n",
        "sns.barplot(x=list(entity_counts.keys()), y=list(entity_counts.values()))\n",
        "plt.title('Entity Frequency Distribution')\n",
        "plt.xlabel('Entity Type')\n",
        "plt.ylabel('Count')\n",
        "plt.show()"
      ],
      "metadata": {
        "colab": {
          "base_uri": "https://localhost:8080/",
          "height": 564
        },
        "id": "f2MJTFoTmv22",
        "outputId": "9f4c7195-c6bb-4610-9215-c61d08279d07"
      },
      "execution_count": null,
      "outputs": [
        {
          "output_type": "display_data",
          "data": {
            "text/plain": [
              "<Figure size 1000x600 with 1 Axes>"
            ],
            "image/png": "[encoded data removed]"
          },
          "metadata": {}
        }
      ]
    }
  ]
}