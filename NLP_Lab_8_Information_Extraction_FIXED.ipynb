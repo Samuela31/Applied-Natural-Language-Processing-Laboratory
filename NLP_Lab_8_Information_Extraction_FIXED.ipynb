{
 "cells": [
  {
   "cell_type": "code",
   "execution_count": null,
   "metadata": {
    "id": "nPLMG2ajRjyV"
   },
   "outputs": [],
   "source": [
    "from transformers import pipeline"
   ]
  },
  {
   "cell_type": "code",
   "execution_count": null,
   "metadata": {
    "colab": {
     "base_uri": "https://localhost:8080/",
     "height": 743,
     "referenced_widgets": [
      "a98eaa1f2c2342d2a3b445e6a58ce364",
      "713a8eb1fa954b318a378e0d8fdf207a",
      "dc517e3e005f4d33a95e737d9beae44d",
      "ba9f08f890744670af74f37a358d986a",
      "d7167ac7c13346bd8cf42b335db1c36c",
      "6e6023137ebe4720aad36d02ba898bb7",
      "ea841964843048f8b38da179388c2379",
      "76a77eeb4fe3438dbef907add1004f05",
      "8ae6d705059c4136bd5d1f2a35d78a78",
      "edf13cab52ee4e8eb709b86ef34c45f9",
      "d7952fbe77a14463aae09d2ee96011a9",
      "602d74ce6088441abfaa0ca350ab55d7",
      "0c225d3d7bb54878a9ecd5c485d8a2a2",
      "2786a825a6a64af590ad1f961e6004c5",
      "650bb711a77e40ebb07df0458d259920",
      "001a9efb96164bda98df01de6ee602d3",
      "57493908c07444df96d191ecc56bdc30",
      "2625884920084bde8fc075b49318fd3e",
      "e5c10448380144508371f2eba1b903b1",
      "72b2ea143cbf43e9a05471a9566c49aa",
      "f39bb8a5fb6e4c0ba9256b45f5bd3148",
      "57d0ec75ea804074a1057a5b14561991",
      "bc0c690b723a404488f5598a8e1ce494",
      "d9e52abd8d224da3a7c09e44fe49956a",
      "33e2b4ebe8914056a7c60ce4e9eb558e",
      "f15fba77a0b940a695406a39e0518a0f",
      "d2dff310c8cc4c4e87f425a36d54bcc8",
      "ab8f454138494365ab0bd3eb4ee425ad",
      "690af7a3c8424c7981221bbc5b5e5a72",
      "111047c227d74ea296e04627ab8352d9",
      "cd960b9ad33148a8ba5cc27ea8586f96",
      "83917a4c7d9d45eda818ceafe56bfcf8",
      "6f196f1fae7844ff8e0161e1c8f0e39a",
      "8a9b0656c810451587cc843795d59c4d",
      "15d4a6cb451649d99931bd0e4623d4d3",
      "21b30c2ba814493a9b8a7b69e3690fe7",
      "8b4878a6f87e4f2aa42c989f26483b57",
      "7c84d6d5f5c54ee7a27fb0e44a494415",
      "72180447e20c48959b8a24e2b7c08b2d",
      "360bc57bf3484921bf4fd3827a116e38",
      "c816b55feff84c16b1ce8cc571916e79",
      "fa11bdc5b5054e4da05450410a9490a8",
      "8b306b95ec364176ba1289b39528dc07",
      "0f9bb6163fc24e19ab08017bd716affc",
      "7afe7ff7040748e7bd1db7e8b11bad3c",
      "ddb19f80370946b38836f3266551c4a9",
      "749bc8e73c254a08b2e64513d891c97d",
      "16bb9dd17ce04dedac3d864a3477d8eb",
      "9f66ad5ec3cc4e448f2a8536379ad643",
      "6e310887540343bf961ca5fe2b8ecbf1",
      "f7473adae22a4d498a119b2f49f4c934",
      "2b3d68a3ac0b4b06a3dd32c74090c8fd",
      "41a366f4d04c4b4292819585eddcc5b5",
      "dabc2723b24e419ca88f365cb27b68b2",
      "8ae43ed355644bd3b5cfe3b4c566ff83",
      "ff98ee9ebad64852a5488f234b973a4e",
      "d7b07a9c1b19404691ba0afc1817b495",
      "6ef84c13fe254d81827e028178292a78",
      "ed378719da84490ba196f237f3bb871d",
      "1f2a6f173a6b44c69fe9bdd9503b3fa3",
      "e1d602f0d55b4703b0f5109ec419c7d1",
      "79995c2b9b4c4ac8a86e9c4e2cd56f48",
      "b8cf8ea0bbd04e3398b9fc6e9c4c9380",
      "eb4c7daa91834759b3d0e5acdca30f68",
      "e8bdf11530e640c5bb2ad53352a406d9",
      "91289d093f4e417da50c95a52db50426",
      "8f66d62ace8843c5894c159547269405",
      "6ec9cd24d3604ce18416f699cf33474d",
      "825988fa84c24a9ea01caa997a8e630b",
      "1ddaff50abe748ab8f1b4b43fe4d92b6",
      "b319d90e2c9a490b80b425fe1efdd3c7",
      "e7ebf3afd8bb4f83a426359955d30051",
      "065704c3ff3e496b8c8404b9643a8058",
      "1a8af1f5c43a401998adef8aaa3c66b1",
      "01610a9ab43943a29ee753562661786c",
      "16d33bfa65f94166af2fe44d31b19a67",
      "dd0a0780a539443796f361b6033b0ec4",
      "b6386af55c4b47d5a71a84015c4efb4a",
      "604ec711096d48fcb393d202260f278a",
      "98153682841b49aaa4acee230c617704",
      "7a7f899eec864e0185d84e77c40e92a9",
      "1ae01778afcb41ce9a956c00b2eb0a2e",
      "2496425069eb4a80a15bb9b8b0468e9b",
      "65a2c514540f489d91b6a8dc04b3e2ec",
      "da17a7b6688e459cbd3e36192f3547a8",
      "8f538f45680b421db00eacd20e149f99",
      "182c98c8f22a44859a7c8dfc0f9db370",
      "6f8d2507d1174d1f98dd827319c9e51a",
      "76782cca4fd94c72995b1d4a83d11baa",
      "45c73a831fcc477f9d4f0f1c7b558885",
      "1944e287abc446b190189da8cd89927b",
      "d86a23349c77464e96c99261d2341da5",
      "bf9dba68ecf540238ed17c3bf5816318",
      "aaa5446ce46540f1aa21c80ca7f91de5",
      "84590bdf42124f5ba149c5f80e8f736d",
      "e0830fe00d1e458b855d3f145356700a",
      "17beb7aa593240d5b1160fee94f8e67c",
      "80e49fb3708b46aebc3f453949831d58",
      "42494a069a5a4530bf2f6f7754710192",
      "7c5129de09d84eee8fac4e59227cf56f",
      "70b5d11c878345d29ec57b157c4b140c",
      "24a655b33a974ada926ff911f1e73345",
      "fc5d25f65fc64d2eaab6ea5f9cd24a4b",
      "d89a3b9104c244dda13a27def9adf4a8",
      "ff49390ec69a4e63a1096ff14a089ea4",
      "f5c161cf596b4de789e7b8acf119f9eb",
      "620b3f5760ba4524bd834aa80a3dff3a",
      "15883ba8b34740e7ba883119aa3e4e1f",
      "9ab6d4a882dc424ca696b34d4829f6bd",
      "51996f00fe55401a851d58199a9ba4d9",
      "f1aef91c43e54839a778b942e8672047",
      "8d245dee5e2d43b4ab2101aec6004ca7",
      "e97c8fff4ef848a2b3236620858ed129",
      "021f35d5da83408b913791b3f995fd35",
      "017106431e1645f79f898e0291f1dd5a",
      "caf4410aa3f64567ae8f84a911082172",
      "311c2daed6b747d8827f0c81b34616e4",
      "1f92c186c294446ead4e78f39d111f15",
      "7dc11cebf67b40e2a4a2d1832728fdb8",
      "1fccb24e5b8b48d9845a06fe33bb02da",
      "fde58b6327874a1bb0edafc06d0e5508",
      "cfaa1ebf8e254d1cbdbbbfe111959f73",
      "5fd485e4a7f0429288724ef6cb969c75",
      "8a81063bec694c30a5002ec94c34aea7",
      "d924064d646a464e8853b85ef2a69fcd",
      "dafd8c20ab4541b18c3ab4012b47ac23",
      "6d1b43c69d6c478688eab2963fd3380a",
      "219dc8a28d7942acadb2a2066bae015c",
      "5234b593d0e648309c265bdf430d3d01",
      "ac7709b77ced4d47a53384f58e80a1b1",
      "3e8d644240524e03bbcd375e56bbdcdf",
      "694a42069a6c4ec7ac879c699e9ae919",
      "925cc310249f44a6881139cd415834d6",
      "0bbe402c32b044bcb1740cd27b8b4556",
      "fcd0084b92784a4d95e7f0d64e69a52b",
      "fced69466e954dd8895296fbfa637cb8",
      "228fa3c4dbd54854a61c9e3d00c909c5",
      "1691feac33bc4b0a8947feb3aa042ba7",
      "607e5cb37d504dfbbb7221825b03933e",
      "74722d02ba364af1ab604b1a57fa0a0e",
      "31ed6b19a2704e9295dd5eed16be6956",
      "94d6d9da858a4a4b9800f2b16b1f1361",
      "1bb74fa4bd4649ab9f721ef11e995617",
      "45c9abc6768444f8b7b81722a425e1a3",
      "86e9cc784cee4926ae8d73921565229e",
      "7828caa2c17e480e82a21ab044e2af58",
      "a70a60ed15ba49388c873e0b445cb219",
      "cf6a2aa91fd9438cae94d9d39f3f03e5",
      "40fd1bf38e5f4646a7d049302e3833e0",
      "f575098679c246f9bdbc824784130837",
      "5c70eddbfde84f528dce5147cd3b3ef9",
      "52426c8f200c46d998945a509845e747",
      "9676cbda0d484097898fc12a9353807b",
      "0049fd522f3749a89db91c91c3bcb42d",
      "55334cb8781f45e398f77a374cb2eb7d",
      "0eefaf13219740afb382f36fa8faa7ab",
      "877e59a19c8a4255ac16140a9fe70d5f",
      "00de77fe6354478295aa0fee70308c1b",
      "eb15a79d5e4c4f27b1068669e9906c51",
      "bf48f43f7b084ba5805823ee9412c2e6",
      "8081d4f9c1df48bc89e0f46bd485cf8d",
      "b59d8dff1126439db36c1a18d599510b",
      "8a54242f7a6140eb84ffe25397174edb",
      "9339cbc4d32d401fa829373183d84865",
      "6ef2cccb392f45a8bd38ae3bd1ad218c"
     ]
    },
    "id": "HFfLL14VTcA2",
    "outputId": "2e073331-bac2-4fb4-f95d-e452438926df"
   },
   "outputs": [
    {
     "name": "stderr",
     "output_type": "stream",
     "text": [
      "/usr/local/lib/python3.10/dist-packages/huggingface_hub/utils/_token.py:99: UserWarning: \n",
      "Error while fetching `HF_TOKEN` secret value from your vault: 'Requesting secret HF_TOKEN timed out. Secrets can only be fetched when running from the Colab UI.'.\n",
      "You are not authenticated with the Hugging Face Hub in this notebook.\n",
      "If the error persists, please let us know by opening an issue on GitHub (https://github.com/huggingface/huggingface_hub/issues/new).\n",
      "  warnings.warn(\n"
     ]
    },
    {
     "data": {
      "application/vnd.jupyter.widget-view+json": {
       "model_id": "a98eaa1f2c2342d2a3b445e6a58ce364",
       "version_major": 2,
       "version_minor": 0
      },
      "text/plain": [
       "config.json:   0%|          | 0.00/1.06k [00:00<?, ?B/s]"
      ]
     },
     "metadata": {},
     "output_type": "display_data"
    },
    {
     "data": {
      "application/vnd.jupyter.widget-view+json": {
       "model_id": "602d74ce6088441abfaa0ca350ab55d7",
       "version_major": 2,
       "version_minor": 0
      },
      "text/plain": [
       "pytorch_model.bin:   0%|          | 0.00/438M [00:00<?, ?B/s]"
      ]
     },
     "metadata": {},
     "output_type": "display_data"
    },
    {
     "name": "stderr",
     "output_type": "stream",
     "text": [
      "Some weights of the model checkpoint at vblagoje/bert-english-uncased-finetuned-pos were not used when initializing BertForTokenClassification: ['bert.pooler.dense.bias', 'bert.pooler.dense.weight']\n",
      "- This IS expected if you are initializing BertForTokenClassification from the checkpoint of a model trained on another task or with another architecture (e.g. initializing a BertForSequenceClassification model from a BertForPreTraining model).\n",
      "- This IS NOT expected if you are initializing BertForTokenClassification from the checkpoint of a model that you expect to be exactly identical (initializing a BertForSequenceClassification model from a BertForSequenceClassification model).\n"
     ]
    },
    {
     "data": {
      "application/vnd.jupyter.widget-view+json": {
       "model_id": "bc0c690b723a404488f5598a8e1ce494",
       "version_major": 2,
       "version_minor": 0
      },
      "text/plain": [
       "tokenizer_config.json:   0%|          | 0.00/48.0 [00:00<?, ?B/s]"
      ]
     },
     "metadata": {},
     "output_type": "display_data"
    },
    {
     "data": {
      "application/vnd.jupyter.widget-view+json": {
       "model_id": "8a9b0656c810451587cc843795d59c4d",
       "version_major": 2,
       "version_minor": 0
      },
      "text/plain": [
       "vocab.txt:   0%|          | 0.00/232k [00:00<?, ?B/s]"
      ]
     },
     "metadata": {},
     "output_type": "display_data"
    },
    {
     "data": {
      "application/vnd.jupyter.widget-view+json": {
       "model_id": "7afe7ff7040748e7bd1db7e8b11bad3c",
       "version_major": 2,
       "version_minor": 0
      },
      "text/plain": [
       "special_tokens_map.json:   0%|          | 0.00/112 [00:00<?, ?B/s]"
      ]
     },
     "metadata": {},
     "output_type": "display_data"
    },
    {
     "name": "stderr",
     "output_type": "stream",
     "text": [
      "/usr/local/lib/python3.10/dist-packages/transformers/tokenization_utils_base.py:1601: FutureWarning: `clean_up_tokenization_spaces` was not set. It will be set to `True` by default. This behavior will be depracted in transformers v4.45, and will be then set to `False` by default. For more details check this issue: https://github.com/huggingface/transformers/issues/31884\n",
      "  warnings.warn(\n"
     ]
    },
    {
     "data": {
      "application/vnd.jupyter.widget-view+json": {
       "model_id": "ff98ee9ebad64852a5488f234b973a4e",
       "version_major": 2,
       "version_minor": 0
      },
      "text/plain": [
       "config.json:   0%|          | 0.00/998 [00:00<?, ?B/s]"
      ]
     },
     "metadata": {},
     "output_type": "display_data"
    },
    {
     "data": {
      "application/vnd.jupyter.widget-view+json": {
       "model_id": "8f66d62ace8843c5894c159547269405",
       "version_major": 2,
       "version_minor": 0
      },
      "text/plain": [
       "model.safetensors:   0%|          | 0.00/1.33G [00:00<?, ?B/s]"
      ]
     },
     "metadata": {},
     "output_type": "display_data"
    },
    {
     "name": "stderr",
     "output_type": "stream",
     "text": [
      "Some weights of the model checkpoint at dbmdz/bert-large-cased-finetuned-conll03-english were not used when initializing BertForTokenClassification: ['bert.pooler.dense.bias', 'bert.pooler.dense.weight']\n",
      "- This IS expected if you are initializing BertForTokenClassification from the checkpoint of a model trained on another task or with another architecture (e.g. initializing a BertForSequenceClassification model from a BertForPreTraining model).\n",
      "- This IS NOT expected if you are initializing BertForTokenClassification from the checkpoint of a model that you expect to be exactly identical (initializing a BertForSequenceClassification model from a BertForSequenceClassification model).\n"
     ]
    },
    {
     "data": {
      "application/vnd.jupyter.widget-view+json": {
       "model_id": "b6386af55c4b47d5a71a84015c4efb4a",
       "version_major": 2,
       "version_minor": 0
      },
      "text/plain": [
       "tokenizer_config.json:   0%|          | 0.00/60.0 [00:00<?, ?B/s]"
      ]
     },
     "metadata": {},
     "output_type": "display_data"
    },
    {
     "data": {
      "application/vnd.jupyter.widget-view+json": {
       "model_id": "76782cca4fd94c72995b1d4a83d11baa",
       "version_major": 2,
       "version_minor": 0
      },
      "text/plain": [
       "vocab.txt:   0%|          | 0.00/213k [00:00<?, ?B/s]"
      ]
     },
     "metadata": {},
     "output_type": "display_data"
    },
    {
     "data": {
      "application/vnd.jupyter.widget-view+json": {
       "model_id": "7c5129de09d84eee8fac4e59227cf56f",
       "version_major": 2,
       "version_minor": 0
      },
      "text/plain": [
       "config.json:   0%|          | 0.00/1.58k [00:00<?, ?B/s]"
      ]
     },
     "metadata": {},
     "output_type": "display_data"
    },
    {
     "data": {
      "application/vnd.jupyter.widget-view+json": {
       "model_id": "f1aef91c43e54839a778b942e8672047",
       "version_major": 2,
       "version_minor": 0
      },
      "text/plain": [
       "model.safetensors:   0%|          | 0.00/1.63G [00:00<?, ?B/s]"
      ]
     },
     "metadata": {},
     "output_type": "display_data"
    },
    {
     "data": {
      "application/vnd.jupyter.widget-view+json": {
       "model_id": "cfaa1ebf8e254d1cbdbbbfe111959f73",
       "version_major": 2,
       "version_minor": 0
      },
      "text/plain": [
       "generation_config.json:   0%|          | 0.00/363 [00:00<?, ?B/s]"
      ]
     },
     "metadata": {},
     "output_type": "display_data"
    },
    {
     "data": {
      "application/vnd.jupyter.widget-view+json": {
       "model_id": "925cc310249f44a6881139cd415834d6",
       "version_major": 2,
       "version_minor": 0
      },
      "text/plain": [
       "vocab.json:   0%|          | 0.00/899k [00:00<?, ?B/s]"
      ]
     },
     "metadata": {},
     "output_type": "display_data"
    },
    {
     "data": {
      "application/vnd.jupyter.widget-view+json": {
       "model_id": "45c9abc6768444f8b7b81722a425e1a3",
       "version_major": 2,
       "version_minor": 0
      },
      "text/plain": [
       "merges.txt:   0%|          | 0.00/456k [00:00<?, ?B/s]"
      ]
     },
     "metadata": {},
     "output_type": "display_data"
    },
    {
     "data": {
      "application/vnd.jupyter.widget-view+json": {
       "model_id": "55334cb8781f45e398f77a374cb2eb7d",
       "version_major": 2,
       "version_minor": 0
      },
      "text/plain": [
       "tokenizer.json:   0%|          | 0.00/1.36M [00:00<?, ?B/s]"
      ]
     },
     "metadata": {},
     "output_type": "display_data"
    }
   ],
   "source": [
    "# Load POS tagging model (distilbert for POS tagging)\n",
    "pos_pipeline = pipeline(\"token-classification\", model=\"vblagoje/bert-english-uncased-finetuned-pos\")\n",
    "\n",
    "# Load Named Entity Recognition (NER) model\n",
    "ner_pipeline = pipeline(\"token-classification\", model=\"dbmdz/bert-large-cased-finetuned-conll03-english\")\n",
    "\n",
    "# Load summarization model\n",
    "summarizer = pipeline(\"summarization\", model=\"facebook/bart-large-cnn\")\n"
   ]
  },
  {
   "cell_type": "code",
   "execution_count": null,
   "metadata": {
    "id": "GpVh_LZAT_tZ"
   },
   "outputs": [],
   "source": [
    "def analyze_text(text):\n",
    "    # Check if input is a single sentence (less than 20 words for this example)\n",
    "    if len(text.split()) < 20:\n",
    "        # Perform POS tagging for single sentences\n",
    "        pos_results = pos_pipeline(text)\n",
    "        for entity in pos_results:\n",
    "            print(f\"Word: {entity['word']}, POS: {entity['entity']}, Confidence: {entity['score']:.2f}\")\n",
    "\n",
    "    else:\n",
    "        # Perform Named Entity Recognition (NER)\n",
    "        ner_results = ner_pipeline(text)\n",
    "        print(\"Named Entities in the text:\")\n",
    "        for entity in ner_results:\n",
    "            print(f\"Entity: {entity['word']}, Label: {entity['entity']}, Confidence: {entity['score']:.2f}\")\n",
    "        summary = summarizer(text, max_length=50, min_length=30, do_sample=False)\n",
    "        print(\"\\nInformation Extracted:\")\n",
    "        print(summary[0]['summary_text'])\n"
   ]
  },
  {
   "cell_type": "code",
   "execution_count": null,
   "metadata": {
    "colab": {
     "base_uri": "https://localhost:8080/"
    },
    "id": "UMLQlamhUZ_O",
    "outputId": "383bb649-63f0-48a3-a6c2-cc47e2079a7b"
   },
   "outputs": [
    {
     "name": "stdout",
     "output_type": "stream",
     "text": [
      "Short Sentence\n",
      "Word: when, POS: ADV, Confidence: 1.00\n",
      "Word: is, POS: AUX, Confidence: 1.00\n",
      "Word: the, POS: DET, Confidence: 1.00\n",
      "Word: birthday, POS: NOUN, Confidence: 1.00\n",
      "Word: party, POS: NOUN, Confidence: 1.00\n",
      "Word: ?, POS: PUNCT, Confidence: 1.00\n",
      "\n",
      "Long Paragraph/Document\n",
      "Named Entities in the text:\n",
      "Entity: AI, Label: I-MISC, Confidence: 0.95\n",
      "Entity: Google, Label: I-ORG, Confidence: 1.00\n",
      "Entity: Microsoft, Label: I-ORG, Confidence: 1.00\n",
      "Entity: AI, Label: I-MISC, Confidence: 0.81\n",
      "Entity: Hu, Label: I-ORG, Confidence: 0.54\n",
      "Entity: ##gging, Label: I-ORG, Confidence: 0.75\n",
      "Entity: Face, Label: I-ORG, Confidence: 0.89\n",
      "Entity: AI, Label: I-MISC, Confidence: 0.89\n",
      "Entity: AI, Label: I-MISC, Confidence: 0.50\n",
      "Entity: AI, Label: I-MISC, Confidence: 0.61\n",
      "\n",
      "Information Extracted:\n",
      "Companies like Google and Microsoft are heavily investing in AI research and development. In the healthcare sector, AI is used for early disease detection and personalized treatment.\n"
     ]
    }
   ],
   "source": [
    "single_sentence = \"When is the birthday party?\"\n",
    "long_text = \"\"\"\n",
    "Artificial intelligence (AI) has revolutionized many industries, from healthcare to finance.\n",
    "Companies like Google and Microsoft are heavily investing in AI research and development.\n",
    "Hugging Face has made significant contributions to this field by creating tools that make AI more accessible.\n",
    "In the healthcare sector, AI is used for early disease detection and personalized treatment.\n",
    "AI's impact is growing, and it will continue to shape the future of technology.\n",
    "\"\"\"\n",
    "\n",
    "print(\"Short Sentence\")\n",
    "analyze_text(single_sentence)\n",
    "\n",
    "print(\"\\nLong Paragraph/Document\")\n",
    "analyze_text(long_text)\n"
   ]
  }
 ],
 "metadata": {
  "colab": {
   "provenance": []
  },
  "kernelspec": {
   "display_name": "Python 3",
   "name": "python3"
  },
  "language_info": {
   "name": "python"
  }
 },
 "nbformat": 4,
 "nbformat_minor": 0
}
