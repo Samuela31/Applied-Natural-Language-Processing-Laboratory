{
  "nbformat": 4,
  "nbformat_minor": 0,
  "metadata": {
    "colab": {
      "provenance": []
    },
    "kernelspec": {
      "name": "python3",
      "display_name": "Python 3"
    },
    "language_info": {
      "name": "python"
    }
  },
  "cells": [
    {
      "cell_type": "code",
      "execution_count": null,
      "metadata": {
        "id": "Hn3fAwI2rMyT",
        "colab": {
          "base_uri": "https://localhost:8080/"
        },
        "outputId": "d2402a63-8d7d-4751-fb73-8dbe542a653e"
      },
      "outputs": [
        {
          "output_type": "stream",
          "name": "stdout",
          "text": [
            "Requirement already satisfied: nltk in /usr/local/lib/python3.10/dist-packages (3.8.1)\n",
            "Requirement already satisfied: click in /usr/local/lib/python3.10/dist-packages (from nltk) (8.1.7)\n",
            "Requirement already satisfied: joblib in /usr/local/lib/python3.10/dist-packages (from nltk) (1.4.2)\n",
            "Requirement already satisfied: regex>=2021.8.3 in /usr/local/lib/python3.10/dist-packages (from nltk) (2024.5.15)\n",
            "Requirement already satisfied: tqdm in /usr/local/lib/python3.10/dist-packages (from nltk) (4.66.5)\n"
          ]
        }
      ],
      "source": [
        "!pip install nltk"
      ]
    },
    {
      "cell_type": "code",
      "source": [
        "import nltk\n",
        "from nltk.corpus import wordnet\n",
        "from nltk.stem import WordNetLemmatizer\n",
        "import inflect\n",
        "\n",
        "# Download wordnet data if not already installed\n",
        "nltk.download('wordnet')\n",
        "nltk.download('omw-1.4')"
      ],
      "metadata": {
        "colab": {
          "base_uri": "https://localhost:8080/"
        },
        "id": "hqp4LlEpuM9-",
        "outputId": "7250b77c-bbb0-45ca-8a8c-de8c9a989c37"
      },
      "execution_count": null,
      "outputs": [
        {
          "output_type": "stream",
          "name": "stderr",
          "text": [
            "[nltk_data] Downloading package wordnet to /root/nltk_data...\n",
            "[nltk_data]   Package wordnet is already up-to-date!\n",
            "[nltk_data] Downloading package omw-1.4 to /root/nltk_data...\n",
            "[nltk_data]   Package omw-1.4 is already up-to-date!\n"
          ]
        },
        {
          "output_type": "execute_result",
          "data": {
            "text/plain": [
              "True"
            ]
          },
          "metadata": {},
          "execution_count": 4
        }
      ]
    },
    {
      "cell_type": "code",
      "source": [
        "def generate_word_forms(word):\n",
        "    lemmatizer = WordNetLemmatizer()\n",
        "    p = inflect.engine()\n",
        "\n",
        "    # Lemmatize the word to get its base form\n",
        "    base = lemmatizer.lemmatize(word, pos='v')\n",
        "\n",
        "    # Generate plural, past, and present participle forms\n",
        "    plural = p.plural(word)\n",
        "    past = lemmatizer.lemmatize(word, pos='v') + 'ed'\n",
        "    present_participle = word + 'ing'\n",
        "\n",
        "    # WordNet synsets to gather related forms\n",
        "    synsets = wordnet.synsets(word)\n",
        "    word_forms = set([word])  # Original word\n",
        "\n",
        "    for synset in synsets:\n",
        "        for lemma in synset.lemmas():\n",
        "            word_forms.add(lemma.name())  # Synonym/other forms of the word\n",
        "\n",
        "    return {\n",
        "        'plural': plural,\n",
        "        'past': past,\n",
        "        'present_participle': present_participle,\n",
        "        'synonyms': word_forms\n",
        "    }\n",
        "\n",
        "# Test the function\n",
        "word = 'kick'\n",
        "word_forms = generate_word_forms(word)\n",
        "\n",
        "print(\"Plural:\", word_forms['plural'])\n",
        "print(\"Past:\", word_forms['past'])\n",
        "print(\"Present Participle:\", word_forms['present_participle'])\n",
        "#print(\"Synonyms and related forms:\", word_forms['synonyms'])\n"
      ],
      "metadata": {
        "colab": {
          "base_uri": "https://localhost:8080/"
        },
        "id": "QgbFsmGjvYF9",
        "outputId": "115bc1d9-40e3-43b8-c71a-fb599846548c"
      },
      "execution_count": null,
      "outputs": [
        {
          "output_type": "stream",
          "name": "stdout",
          "text": [
            "Plural: kicks\n",
            "Past: kicked\n",
            "Present Participle: kicking\n"
          ]
        }
      ]
    },
    {
      "cell_type": "code",
      "source": [
        "word = 'eat'\n",
        "word_forms = generate_word_forms(word)\n",
        "\n",
        "print(\"Plural:\", word_forms['plural'])\n",
        "print(\"Past:\", word_forms['past'])\n",
        "print(\"Present Participle:\", word_forms['present_participle'])\n",
        "print(\"Synonyms and related forms:\", word_forms['synonyms'])"
      ],
      "metadata": {
        "id": "HRxeHzM5xoAQ",
        "outputId": "1fbce485-1848-45a1-8a92-13e6f8b6f618",
        "colab": {
          "base_uri": "https://localhost:8080/"
        }
      },
      "execution_count": null,
      "outputs": [
        {
          "output_type": "stream",
          "name": "stdout",
          "text": [
            "Plural: eats\n",
            "Past: eated\n",
            "Present Participle: eating\n",
            "Synonyms and related forms: {'consume', 'wipe_out', 'feed', 'eat', 'run_through', 'eat_up', 'eat_on', 'deplete', 'exhaust', 'rust', 'corrode', 'use_up'}\n"
          ]
        }
      ]
    }
  ]
}